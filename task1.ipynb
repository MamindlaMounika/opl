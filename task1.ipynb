{
 "cells": [
  {
   "cell_type": "code",
   "execution_count": 44,
   "metadata": {},
   "outputs": [
    {
     "name": "stdout",
     "output_type": "stream",
     "text": [
      "9\n",
      "102\n",
      "(((((2+3)+4)*5)+6)*15)\n",
      "(((2*4)*(7*8))*(2+3))\n",
      "((3*4)+(5*6))\n",
      "((24+36)+(2+9))\n",
      "((23+24)*(32+36))\n",
      "((2+3)*(5+6))\n",
      "(((4*6)+9)+(3*6))\n",
      "(((3+(4*5))*4)+(6*4))\n",
      "(((72+32)+36)*(24+(63*1)))\n",
      "((((2+2)+4)*5)+6) (7*8)\n"
     ]
    }
   ],
   "source": [
    "class number:\n",
    "    def __init__(self,num):\n",
    "        self.num=num\n",
    "    def __str__(self):\n",
    "        return str(self.num)\n",
    "    def result(self):\n",
    "        return int(self.num)\n",
    "\n",
    "class add:    \n",
    "    def __init__(self,exp1,exp2):\n",
    "        self.exp1= exp1\n",
    "        self.exp2= exp2\n",
    "    def __str__(self):\n",
    "        return  str('(' + str(self.exp1) + \"+\" + str(self.exp2) + ')')\n",
    "    def result(self): \n",
    "        return self.exp1.result() + self.exp2.result()\n",
    "\n",
    "    \n",
    "class mul:\n",
    "    def __init__(self,exp3,exp4):\n",
    "        self.exp3=exp3\n",
    "        self.exp4=exp4\n",
    "    def __str__(self):\n",
    "        return str('(' + str(self.exp3) + \"*\" + str(self.exp4) +')')\n",
    "    def result(self):\n",
    "        return self.exp3.result() * self.exp4.result()\n",
    "        \n",
    "x1=(add(add(number(4),number(2)),number(3)))\n",
    "print(x1.result())\n",
    "x2=mul(add(add(number(2), number(4)),mul(number(7),number(4))), number(3))\n",
    "print(x2.result())\n",
    "x3=print(mul(add(mul(add(add(number(2),number(3)),number(4)),number(5)),number(6)),number(15)))\n",
    "\n",
    "        \n",
    "print(mul(mul(mul(number(2),number(4)),mul(number(7),number(8))),add(number(2),number(3))))\n",
    "\n",
    "print(add(mul(number(3),number(4)),mul(number(5),number(6))))\n",
    "print(add(add(number(24),number(36)),add(number(2),number(9))))\n",
    "print(mul(add(number(23),number(24)),add(number(32),number(36))))\n",
    "print(mul(add(number(2),number(3)),add(number(5),number(6))))\n",
    "print(add(add(mul(number(4),number(6)),number(9)),mul(number(3),number(6))))\n",
    "print(add(mul(add(number(3),mul(number(4),number(5))),number(4)),mul(number(6),number(4))))\n",
    "print(mul(add(add(number(72),number(32)),number(36)),add(number(24),mul(number(63),number(1)))))\n",
    "print(add(mul(add(add(number(2),number(2)),number(4)),number(5)),number(6)),mul(number(7),number(8)))"
   ]
  },
  {
   "cell_type": "code",
   "execution_count": null,
   "metadata": {},
   "outputs": [],
   "source": []
  },
  {
   "cell_type": "code",
   "execution_count": null,
   "metadata": {},
   "outputs": [],
   "source": []
  },
  {
   "cell_type": "code",
   "execution_count": null,
   "metadata": {},
   "outputs": [],
   "source": []
  }
 ],
 "metadata": {
  "kernelspec": {
   "display_name": "Python 3",
   "language": "python",
   "name": "python3"
  },
  "language_info": {
   "codemirror_mode": {
    "name": "ipython",
    "version": 3
   },
   "file_extension": ".py",
   "mimetype": "text/x-python",
   "name": "python",
   "nbconvert_exporter": "python",
   "pygments_lexer": "ipython3",
   "version": "3.7.1"
  }
 },
 "nbformat": 4,
 "nbformat_minor": 2
}
