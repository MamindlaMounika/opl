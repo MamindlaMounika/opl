{
 "cells": [
  {
   "cell_type": "code",
   "execution_count": 43,
   "metadata": {},
   "outputs": [
    {
     "name": "stdout",
     "output_type": "stream",
     "text": [
      "((1+2)+3)\n",
      "(((1+2)+(3*4))*10)\n"
     ]
    }
   ],
   "source": [
    "class number:\n",
    "    def __init__(self,num):\n",
    "        self.num=num\n",
    "    def __str__(self):\n",
    "        return str(self.num)\n",
    "\n",
    "class add:    \n",
    "    def __init__(self,exp1,exp2):\n",
    "        self.exp1= exp1\n",
    "        self.exp2= exp2\n",
    "    def __str__(self):\n",
    "        return  str('(' + str(self.exp1) + \"+\" + str(self.exp2) + ')')\n",
    "        \n",
    "\n",
    "    \n",
    "class mul:\n",
    "    def __init__(self,exp3,exp4):\n",
    "        self.exp3=exp3\n",
    "        self.exp4=exp4\n",
    "    def __str__(self):\n",
    "        return str('(' + str(self.exp3) + \"*\" + str(self.exp4) +')')\n",
    "        \n",
    "\n",
    "        \n",
    "print(add(add(number(1),number(2)),number(3)))\n",
    "print(mul(add(add(number(1), number(2)),mul(number(3),number(4))), number(10)))\n",
    "\n",
    "        \n",
    "    \n",
    "\n",
    "        \n"
   ]
  },
  {
   "cell_type": "code",
   "execution_count": 42,
   "metadata": {},
   "outputs": [
    {
     "name": "stdout",
     "output_type": "stream",
     "text": [
      "((3*2)*3)\n"
     ]
    }
   ],
   "source": [
    "class mul:\n",
    "    def __init__(self,exp3,exp4):\n",
    "        self.exp3=exp3\n",
    "        self.exp4=exp4\n",
    "    def __str__(self):\n",
    "        return str('(' + str(self.exp3) + \"*\" + str(self.exp4) +')')\n",
    "        \n",
    "        \n",
    "print(mul(mul(3,2),3))\n",
    "\n"
   ]
  },
  {
   "cell_type": "code",
   "execution_count": null,
   "metadata": {},
   "outputs": [],
   "source": []
  },
  {
   "cell_type": "code",
   "execution_count": null,
   "metadata": {},
   "outputs": [],
   "source": []
  },
  {
   "cell_type": "code",
   "execution_count": null,
   "metadata": {},
   "outputs": [],
   "source": []
  }
 ],
 "metadata": {
  "kernelspec": {
   "display_name": "Python 3",
   "language": "python",
   "name": "python3"
  },
  "language_info": {
   "codemirror_mode": {
    "name": "ipython",
    "version": 3
   },
   "file_extension": ".py",
   "mimetype": "text/x-python",
   "name": "python",
   "nbconvert_exporter": "python",
   "pygments_lexer": "ipython3",
   "version": "3.7.1"
  }
 },
 "nbformat": 4,
 "nbformat_minor": 2
}
