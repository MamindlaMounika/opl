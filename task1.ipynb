{
 "cells": [
  {
   "cell_type": "code",
   "execution_count": null,
   "metadata": {},
   "outputs": [],
   "source": [
    "class number:\n",
    "    def __init__(self,num):\n",
    "        self.num=num\n",
    "\n",
    "class add:    \n",
    "    def __init__(self,exp1,expr2):\n",
    "        self.exp1= exp1\n",
    "        self.exp2=exp2\n",
    "    \n",
    "class mul:\n",
    "    def __init__(self,exp3,exp4):\n",
    "        self.exp3=exp3\n",
    "        self.exp4=exp4\n",
    "        \n",
    "    \n",
    "\n",
    "        \n"
   ]
  }
 ],
 "metadata": {
  "kernelspec": {
   "display_name": "Python 3",
   "language": "python",
   "name": "python3"
  },
  "language_info": {
   "codemirror_mode": {
    "name": "ipython",
    "version": 3
   },
   "file_extension": ".py",
   "mimetype": "text/x-python",
   "name": "python",
   "nbconvert_exporter": "python",
   "pygments_lexer": "ipython3",
   "version": "3.7.1"
  }
 },
 "nbformat": 4,
 "nbformat_minor": 2
}
